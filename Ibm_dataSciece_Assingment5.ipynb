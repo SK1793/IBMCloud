{
    "cells": [
        {
            "metadata": {},
            "id": "d27f0182",
            "cell_type": "code",
            "source": "pip install plotly",
            "execution_count": 4,
            "outputs": [
                {
                    "output_type": "stream",
                    "text": "Requirement already satisfied: plotly in /opt/conda/envs/Python-3.9/lib/python3.9/site-packages (5.1.0)\nRequirement already satisfied: tenacity>=6.2.0 in /opt/conda/envs/Python-3.9/lib/python3.9/site-packages (from plotly) (8.0.1)\nRequirement already satisfied: six in /opt/conda/envs/Python-3.9/lib/python3.9/site-packages (from plotly) (1.15.0)\nNote: you may need to restart the kernel to use updated packages.\n",
                    "name": "stdout"
                }
            ]
        },
        {
            "metadata": {},
            "cell_type": "code",
            "source": "pip install yfinance",
            "execution_count": 5,
            "outputs": [
                {
                    "output_type": "stream",
                    "text": "Collecting yfinance\n  Downloading yfinance-0.1.87-py2.py3-none-any.whl (29 kB)\nCollecting multitasking>=0.0.7\n  Downloading multitasking-0.0.11-py3-none-any.whl (8.5 kB)\nRequirement already satisfied: appdirs>=1.4.4 in /opt/conda/envs/Python-3.9/lib/python3.9/site-packages (from yfinance) (1.4.4)\nRequirement already satisfied: numpy>=1.15 in /opt/conda/envs/Python-3.9/lib/python3.9/site-packages (from yfinance) (1.20.3)\nRequirement already satisfied: lxml>=4.5.1 in /opt/conda/envs/Python-3.9/lib/python3.9/site-packages (from yfinance) (4.9.1)\nRequirement already satisfied: pandas>=0.24.0 in /opt/conda/envs/Python-3.9/lib/python3.9/site-packages (from yfinance) (1.3.4)\nRequirement already satisfied: requests>=2.26 in /opt/conda/envs/Python-3.9/lib/python3.9/site-packages (from yfinance) (2.26.0)\nRequirement already satisfied: python-dateutil>=2.7.3 in /opt/conda/envs/Python-3.9/lib/python3.9/site-packages (from pandas>=0.24.0->yfinance) (2.8.2)\nRequirement already satisfied: pytz>=2017.3 in /opt/conda/envs/Python-3.9/lib/python3.9/site-packages (from pandas>=0.24.0->yfinance) (2021.3)\nRequirement already satisfied: six>=1.5 in /opt/conda/envs/Python-3.9/lib/python3.9/site-packages (from python-dateutil>=2.7.3->pandas>=0.24.0->yfinance) (1.15.0)\nRequirement already satisfied: certifi>=2017.4.17 in /opt/conda/envs/Python-3.9/lib/python3.9/site-packages (from requests>=2.26->yfinance) (2022.9.24)\nRequirement already satisfied: urllib3<1.27,>=1.21.1 in /opt/conda/envs/Python-3.9/lib/python3.9/site-packages (from requests>=2.26->yfinance) (1.26.7)\nRequirement already satisfied: idna<4,>=2.5 in /opt/conda/envs/Python-3.9/lib/python3.9/site-packages (from requests>=2.26->yfinance) (3.3)\nRequirement already satisfied: charset-normalizer~=2.0.0 in /opt/conda/envs/Python-3.9/lib/python3.9/site-packages (from requests>=2.26->yfinance) (2.0.4)\nInstalling collected packages: multitasking, yfinance\nSuccessfully installed multitasking-0.0.11 yfinance-0.1.87\nNote: you may need to restart the kernel to use updated packages.\n",
                    "name": "stdout"
                }
            ],
            "id": "56f8d595"
        },
        {
            "metadata": {},
            "cell_type": "code",
            "source": "\npip install bs4",
            "execution_count": 6,
            "outputs": [
                {
                    "output_type": "stream",
                    "text": "Collecting bs4\n  Downloading bs4-0.0.1.tar.gz (1.1 kB)\nRequirement already satisfied: beautifulsoup4 in /opt/conda/envs/Python-3.9/lib/python3.9/site-packages (from bs4) (4.10.0)\nRequirement already satisfied: soupsieve>1.2 in /opt/conda/envs/Python-3.9/lib/python3.9/site-packages (from beautifulsoup4->bs4) (2.3.1)\nBuilding wheels for collected packages: bs4\n  Building wheel for bs4 (setup.py) ... \u001b[?25ldone\n\u001b[?25h  Created wheel for bs4: filename=bs4-0.0.1-py3-none-any.whl size=1271 sha256=94cda524da4d3565fb29c0088141bc43308bf56f0e4dfc8495acf7a6f2ff3558\n  Stored in directory: /tmp/wsuser/.cache/pip/wheels/73/2b/cb/099980278a0c9a3e57ff1a89875ec07bfa0b6fcbebb9a8cad3\nSuccessfully built bs4\nInstalling collected packages: bs4\nSuccessfully installed bs4-0.0.1\nNote: you may need to restart the kernel to use updated packages.\n",
                    "name": "stdout"
                }
            ],
            "id": "fd415bd4"
        },
        {
            "metadata": {},
            "cell_type": "code",
            "source": "pip install pandas",
            "execution_count": 7,
            "outputs": [
                {
                    "output_type": "stream",
                    "text": "Requirement already satisfied: pandas in /opt/conda/envs/Python-3.9/lib/python3.9/site-packages (1.3.4)\nRequirement already satisfied: python-dateutil>=2.7.3 in /opt/conda/envs/Python-3.9/lib/python3.9/site-packages (from pandas) (2.8.2)\nRequirement already satisfied: pytz>=2017.3 in /opt/conda/envs/Python-3.9/lib/python3.9/site-packages (from pandas) (2021.3)\nRequirement already satisfied: numpy>=1.17.3 in /opt/conda/envs/Python-3.9/lib/python3.9/site-packages (from pandas) (1.20.3)\nRequirement already satisfied: six>=1.5 in /opt/conda/envs/Python-3.9/lib/python3.9/site-packages (from python-dateutil>=2.7.3->pandas) (1.15.0)\nNote: you may need to restart the kernel to use updated packages.\n",
                    "name": "stdout"
                }
            ],
            "id": "8fcb9766"
        },
        {
            "metadata": {},
            "cell_type": "code",
            "source": "pip install numpy",
            "execution_count": 8,
            "outputs": [
                {
                    "output_type": "stream",
                    "text": "Requirement already satisfied: numpy in /opt/conda/envs/Python-3.9/lib/python3.9/site-packages (1.20.3)\nNote: you may need to restart the kernel to use updated packages.\n",
                    "name": "stdout"
                }
            ],
            "id": "bbfb485f"
        },
        {
            "metadata": {},
            "cell_type": "code",
            "source": "pip install sklearn",
            "execution_count": 9,
            "outputs": [
                {
                    "output_type": "stream",
                    "text": "Collecting sklearn\n  Downloading sklearn-0.0.post1.tar.gz (3.6 kB)\nBuilding wheels for collected packages: sklearn\n  Building wheel for sklearn (setup.py) ... \u001b[?25ldone\n\u001b[?25h  Created wheel for sklearn: filename=sklearn-0.0.post1-py3-none-any.whl size=2344 sha256=b32356bb95c0ac8af98907008436ddf8ddbb23aa295bbf0eed55063dbf64a08d\n  Stored in directory: /tmp/wsuser/.cache/pip/wheels/f8/e0/3d/9d0c2020c44a519b9f02ab4fa6d2a4a996c98d79ab2f569fa1\nSuccessfully built sklearn\nInstalling collected packages: sklearn\nSuccessfully installed sklearn-0.0.post1\nNote: you may need to restart the kernel to use updated packages.\n",
                    "name": "stdout"
                }
            ],
            "id": "38af2ae4"
        },
        {
            "metadata": {},
            "cell_type": "code",
            "source": "pip install matplotlib",
            "execution_count": 10,
            "outputs": [
                {
                    "output_type": "stream",
                    "text": "Requirement already satisfied: matplotlib in /opt/conda/envs/Python-3.9/lib/python3.9/site-packages (3.5.0)\nRequirement already satisfied: kiwisolver>=1.0.1 in /opt/conda/envs/Python-3.9/lib/python3.9/site-packages (from matplotlib) (1.3.1)\nRequirement already satisfied: packaging>=20.0 in /opt/conda/envs/Python-3.9/lib/python3.9/site-packages (from matplotlib) (21.3)\nRequirement already satisfied: numpy>=1.17 in /opt/conda/envs/Python-3.9/lib/python3.9/site-packages (from matplotlib) (1.20.3)\nRequirement already satisfied: pillow>=6.2.0 in /opt/conda/envs/Python-3.9/lib/python3.9/site-packages (from matplotlib) (9.0.1)\nRequirement already satisfied: cycler>=0.10 in /opt/conda/envs/Python-3.9/lib/python3.9/site-packages (from matplotlib) (0.11.0)\nRequirement already satisfied: fonttools>=4.22.0 in /opt/conda/envs/Python-3.9/lib/python3.9/site-packages (from matplotlib) (4.25.0)\nRequirement already satisfied: python-dateutil>=2.7 in /opt/conda/envs/Python-3.9/lib/python3.9/site-packages (from matplotlib) (2.8.2)\nRequirement already satisfied: pyparsing>=2.2.1 in /opt/conda/envs/Python-3.9/lib/python3.9/site-packages (from matplotlib) (3.0.4)\nRequirement already satisfied: six>=1.5 in /opt/conda/envs/Python-3.9/lib/python3.9/site-packages (from python-dateutil>=2.7->matplotlib) (1.15.0)\nNote: you may need to restart the kernel to use updated packages.\n",
                    "name": "stdout"
                }
            ],
            "id": "4c1ec97d"
        },
        {
            "metadata": {},
            "cell_type": "code",
            "source": "pip install seaborn",
            "execution_count": 11,
            "outputs": [
                {
                    "output_type": "stream",
                    "text": "Requirement already satisfied: seaborn in /opt/conda/envs/Python-3.9/lib/python3.9/site-packages (0.11.2)\nRequirement already satisfied: pandas>=0.23 in /opt/conda/envs/Python-3.9/lib/python3.9/site-packages (from seaborn) (1.3.4)\nRequirement already satisfied: matplotlib>=2.2 in /opt/conda/envs/Python-3.9/lib/python3.9/site-packages (from seaborn) (3.5.0)\nRequirement already satisfied: scipy>=1.0 in /opt/conda/envs/Python-3.9/lib/python3.9/site-packages (from seaborn) (1.7.3)\nRequirement already satisfied: numpy>=1.15 in /opt/conda/envs/Python-3.9/lib/python3.9/site-packages (from seaborn) (1.20.3)\nRequirement already satisfied: cycler>=0.10 in /opt/conda/envs/Python-3.9/lib/python3.9/site-packages (from matplotlib>=2.2->seaborn) (0.11.0)\nRequirement already satisfied: pyparsing>=2.2.1 in /opt/conda/envs/Python-3.9/lib/python3.9/site-packages (from matplotlib>=2.2->seaborn) (3.0.4)\nRequirement already satisfied: packaging>=20.0 in /opt/conda/envs/Python-3.9/lib/python3.9/site-packages (from matplotlib>=2.2->seaborn) (21.3)\nRequirement already satisfied: pillow>=6.2.0 in /opt/conda/envs/Python-3.9/lib/python3.9/site-packages (from matplotlib>=2.2->seaborn) (9.0.1)\nRequirement already satisfied: python-dateutil>=2.7 in /opt/conda/envs/Python-3.9/lib/python3.9/site-packages (from matplotlib>=2.2->seaborn) (2.8.2)\nRequirement already satisfied: fonttools>=4.22.0 in /opt/conda/envs/Python-3.9/lib/python3.9/site-packages (from matplotlib>=2.2->seaborn) (4.25.0)\nRequirement already satisfied: kiwisolver>=1.0.1 in /opt/conda/envs/Python-3.9/lib/python3.9/site-packages (from matplotlib>=2.2->seaborn) (1.3.1)\nRequirement already satisfied: pytz>=2017.3 in /opt/conda/envs/Python-3.9/lib/python3.9/site-packages (from pandas>=0.23->seaborn) (2021.3)\nRequirement already satisfied: six>=1.5 in /opt/conda/envs/Python-3.9/lib/python3.9/site-packages (from python-dateutil>=2.7->matplotlib>=2.2->seaborn) (1.15.0)\nNote: you may need to restart the kernel to use updated packages.\n",
                    "name": "stdout"
                }
            ],
            "id": "552f6573"
        },
        {
            "metadata": {},
            "cell_type": "code",
            "source": "pip install requests",
            "execution_count": 12,
            "outputs": [
                {
                    "output_type": "stream",
                    "text": "Requirement already satisfied: requests in /opt/conda/envs/Python-3.9/lib/python3.9/site-packages (2.26.0)\nRequirement already satisfied: certifi>=2017.4.17 in /opt/conda/envs/Python-3.9/lib/python3.9/site-packages (from requests) (2022.9.24)\nRequirement already satisfied: urllib3<1.27,>=1.21.1 in /opt/conda/envs/Python-3.9/lib/python3.9/site-packages (from requests) (1.26.7)\nRequirement already satisfied: charset-normalizer~=2.0.0 in /opt/conda/envs/Python-3.9/lib/python3.9/site-packages (from requests) (2.0.4)\nRequirement already satisfied: idna<4,>=2.5 in /opt/conda/envs/Python-3.9/lib/python3.9/site-packages (from requests) (3.3)\nNote: you may need to restart the kernel to use updated packages.\n",
                    "name": "stdout"
                }
            ],
            "id": "59b77e1f"
        },
        {
            "metadata": {},
            "id": "b36915a7",
            "cell_type": "code",
            "source": "#usage of yfinance to extact stock data\nimport yfinance as yf\n#BeautifulSoup for Web Scrapping\nfrom bs4 import BeautifulSoup\n#pandas library\nimport pandas as pd\n#numpy library\nimport numpy as np\n#Sklearn(Scikit-learn) for classification, regression and clustering algorithms\nimport sklearn as sk\n#matplotlib (for static, animated, and interactive visualizations)\nimport matplotlib.pyplot as plt\n#seaborn(data visualization library based on matplotlib)\nimport seaborn as sb\n#bokeh for interactive plots for modern browsers\n#from bokeh.io import output_notebook, show\n#requests library\nimport requests\n\nimport plotly.graph_objects as go\nfrom plotly.subplots import make_subplots",
            "execution_count": 13,
            "outputs": []
        },
        {
            "metadata": {},
            "id": "d1b1a4af",
            "cell_type": "code",
            "source": "#function to plot the Graph\ndef make_graph(stock_data, revenue_data, stock):\n    fig = make_subplots(rows=2, cols=1, shared_xaxes=True, subplot_titles=(\"Historical Share Price\", \"Historical Revenue\"), vertical_spacing = .3)\n    fig.add_trace(go.Scatter(x=pd.to_datetime(stock_data.Date, infer_datetime_format=True), y=stock_data.Close.astype(\"float\"), name=\"Share Price\"), row=1, col=1)\n    fig.add_trace(go.Scatter(x=pd.to_datetime(revenue_data.Date, infer_datetime_format=True), y=revenue_data.Revenue.astype(\"float\"), name=\"Revenue\"), row=2, col=1)\n    fig.update_xaxes(title_text=\"Date\", row=1, col=1)\n    fig.update_xaxes(title_text=\"Date\", row=2, col=1)\n    fig.update_yaxes(title_text=\"Price ($US)\", row=1, col=1)\n    fig.update_yaxes(title_text=\"Revenue ($US Millions)\", row=2, col=1)\n    fig.update_layout(showlegend=False,\n    height=900,\n    title=stock,\n    xaxis_rangeslider_visible=True)\n    fig.show()",
            "execution_count": 14,
            "outputs": []
        },
        {
            "metadata": {},
            "id": "1faaf08a",
            "cell_type": "code",
            "source": "#usage of yfinance to extact stock data\nshopify=yf.Ticker(\"SHOP\")\nshopify_data=shopify.history(period=\"max\")\nshopify_data.reset_index(inplace=True)\nshopify_data.head()",
            "execution_count": 15,
            "outputs": [
                {
                    "output_type": "execute_result",
                    "execution_count": 15,
                    "data": {
                        "text/plain": "                       Date   Open   High    Low  Close     Volume  Dividends  \\\n0 2015-05-20 00:00:00-04:00  1.700  1.700  1.700  1.700          0          0   \n1 2015-05-21 00:00:00-04:00  2.800  2.874  2.411  2.568  123039000          0   \n2 2015-05-22 00:00:00-04:00  2.607  3.110  2.600  2.831   28412000          0   \n3 2015-05-26 00:00:00-04:00  2.980  3.034  2.908  2.965    8202000          0   \n4 2015-05-27 00:00:00-04:00  3.067  3.081  2.700  2.750    7976000          0   \n\n   Stock Splits  \n0           0.0  \n1           0.0  \n2           0.0  \n3           0.0  \n4           0.0  ",
                        "text/html": "<div>\n<style scoped>\n    .dataframe tbody tr th:only-of-type {\n        vertical-align: middle;\n    }\n\n    .dataframe tbody tr th {\n        vertical-align: top;\n    }\n\n    .dataframe thead th {\n        text-align: right;\n    }\n</style>\n<table border=\"1\" class=\"dataframe\">\n  <thead>\n    <tr style=\"text-align: right;\">\n      <th></th>\n      <th>Date</th>\n      <th>Open</th>\n      <th>High</th>\n      <th>Low</th>\n      <th>Close</th>\n      <th>Volume</th>\n      <th>Dividends</th>\n      <th>Stock Splits</th>\n    </tr>\n  </thead>\n  <tbody>\n    <tr>\n      <th>0</th>\n      <td>2015-05-20 00:00:00-04:00</td>\n      <td>1.700</td>\n      <td>1.700</td>\n      <td>1.700</td>\n      <td>1.700</td>\n      <td>0</td>\n      <td>0</td>\n      <td>0.0</td>\n    </tr>\n    <tr>\n      <th>1</th>\n      <td>2015-05-21 00:00:00-04:00</td>\n      <td>2.800</td>\n      <td>2.874</td>\n      <td>2.411</td>\n      <td>2.568</td>\n      <td>123039000</td>\n      <td>0</td>\n      <td>0.0</td>\n    </tr>\n    <tr>\n      <th>2</th>\n      <td>2015-05-22 00:00:00-04:00</td>\n      <td>2.607</td>\n      <td>3.110</td>\n      <td>2.600</td>\n      <td>2.831</td>\n      <td>28412000</td>\n      <td>0</td>\n      <td>0.0</td>\n    </tr>\n    <tr>\n      <th>3</th>\n      <td>2015-05-26 00:00:00-04:00</td>\n      <td>2.980</td>\n      <td>3.034</td>\n      <td>2.908</td>\n      <td>2.965</td>\n      <td>8202000</td>\n      <td>0</td>\n      <td>0.0</td>\n    </tr>\n    <tr>\n      <th>4</th>\n      <td>2015-05-27 00:00:00-04:00</td>\n      <td>3.067</td>\n      <td>3.081</td>\n      <td>2.700</td>\n      <td>2.750</td>\n      <td>7976000</td>\n      <td>0</td>\n      <td>0.0</td>\n    </tr>\n  </tbody>\n</table>\n</div>"
                    },
                    "metadata": {}
                }
            ]
        },
        {
            "metadata": {},
            "id": "745e21d8",
            "cell_type": "markdown",
            "source": "## 1) usage of yfinance to extact stock data"
        },
        {
            "metadata": {},
            "id": "61679562",
            "cell_type": "code",
            "source": "#1)yfinance for extracting stock data\n\n# Ticker function to create a \"ticker object\".\n# TSLA is ticker symbol for tesla\ntesla_data = yf.Ticker('TSLA')\n\n# history function helps to get stock info\n# period='max' to get info. for the maximum amount of time.\ntdata = tesla_data.history(period='max')\n\n# Resetting the index & inplace=True to return nothing & get DataFrame updated\ntdata.reset_index(inplace=True)\n#first five rows\ntdata.head()",
            "execution_count": 16,
            "outputs": [
                {
                    "output_type": "execute_result",
                    "execution_count": 16,
                    "data": {
                        "text/plain": "                       Date      Open      High       Low     Close  \\\n0 2010-06-29 00:00:00-04:00  1.266667  1.666667  1.169333  1.592667   \n1 2010-06-30 00:00:00-04:00  1.719333  2.028000  1.553333  1.588667   \n2 2010-07-01 00:00:00-04:00  1.666667  1.728000  1.351333  1.464000   \n3 2010-07-02 00:00:00-04:00  1.533333  1.540000  1.247333  1.280000   \n4 2010-07-06 00:00:00-04:00  1.333333  1.333333  1.055333  1.074000   \n\n      Volume  Dividends  Stock Splits  \n0  281494500          0           0.0  \n1  257806500          0           0.0  \n2  123282000          0           0.0  \n3   77097000          0           0.0  \n4  103003500          0           0.0  ",
                        "text/html": "<div>\n<style scoped>\n    .dataframe tbody tr th:only-of-type {\n        vertical-align: middle;\n    }\n\n    .dataframe tbody tr th {\n        vertical-align: top;\n    }\n\n    .dataframe thead th {\n        text-align: right;\n    }\n</style>\n<table border=\"1\" class=\"dataframe\">\n  <thead>\n    <tr style=\"text-align: right;\">\n      <th></th>\n      <th>Date</th>\n      <th>Open</th>\n      <th>High</th>\n      <th>Low</th>\n      <th>Close</th>\n      <th>Volume</th>\n      <th>Dividends</th>\n      <th>Stock Splits</th>\n    </tr>\n  </thead>\n  <tbody>\n    <tr>\n      <th>0</th>\n      <td>2010-06-29 00:00:00-04:00</td>\n      <td>1.266667</td>\n      <td>1.666667</td>\n      <td>1.169333</td>\n      <td>1.592667</td>\n      <td>281494500</td>\n      <td>0</td>\n      <td>0.0</td>\n    </tr>\n    <tr>\n      <th>1</th>\n      <td>2010-06-30 00:00:00-04:00</td>\n      <td>1.719333</td>\n      <td>2.028000</td>\n      <td>1.553333</td>\n      <td>1.588667</td>\n      <td>257806500</td>\n      <td>0</td>\n      <td>0.0</td>\n    </tr>\n    <tr>\n      <th>2</th>\n      <td>2010-07-01 00:00:00-04:00</td>\n      <td>1.666667</td>\n      <td>1.728000</td>\n      <td>1.351333</td>\n      <td>1.464000</td>\n      <td>123282000</td>\n      <td>0</td>\n      <td>0.0</td>\n    </tr>\n    <tr>\n      <th>3</th>\n      <td>2010-07-02 00:00:00-04:00</td>\n      <td>1.533333</td>\n      <td>1.540000</td>\n      <td>1.247333</td>\n      <td>1.280000</td>\n      <td>77097000</td>\n      <td>0</td>\n      <td>0.0</td>\n    </tr>\n    <tr>\n      <th>4</th>\n      <td>2010-07-06 00:00:00-04:00</td>\n      <td>1.333333</td>\n      <td>1.333333</td>\n      <td>1.055333</td>\n      <td>1.074000</td>\n      <td>103003500</td>\n      <td>0</td>\n      <td>0.0</td>\n    </tr>\n  </tbody>\n</table>\n</div>"
                    },
                    "metadata": {}
                }
            ]
        },
        {
            "metadata": {},
            "id": "55651e5f",
            "cell_type": "markdown",
            "source": "## 2)Use Webscraping to Extract Tesla Revenue Data"
        },
        {
            "metadata": {},
            "id": "c910615d",
            "cell_type": "code",
            "source": "# using requests library to download the webpage about tesla revenue\nurl='https://www.macrotrends.net/stocks/charts/TSLA/tesla/revenue'\n\n# Save the response in the form of text\nhtml_text = requests.get(url).text\n\n# usage of beautiful_soup to get data from earlier html text\nsoup=BeautifulSoup(html_text, 'html.parser')",
            "execution_count": 18,
            "outputs": []
        },
        {
            "metadata": {},
            "id": "189c5e94",
            "cell_type": "code",
            "source": "# Using beautiful soup extract the table with Tesla Quarterly Revenue.\n# creating new dataframe\ntsla_revenue = pd.DataFrame(columns=[\"Date\", \"Revenue\"])\n\ntables = soup.find_all('table')\ntable_index=0\n\nfor index, table in enumerate(tables):\n    if ('Tesla Quarterly Revenue'in str(table)):\n        table_index=index\n#print(table)        \nfor row in tables[table_index].tbody.find_all(\"tr\"):\n    col = row.find_all(\"td\")\n    if (col!=[]):\n        date =col[0].text\n        # to remove comma and dollar sign\n        revenue =col[1].text.replace(\"$\", \"\").replace(\",\", \"\")\n        tsla_revenue=tsla_revenue.append({'Date':date,'Revenue':revenue},\n                                           ignore_index=True)\n# removing null values\ntsla_revenue = tsla_revenue[tsla_revenue['Revenue']!='']\ntsla_revenue.tail()",
            "execution_count": 19,
            "outputs": [
                {
                    "output_type": "execute_result",
                    "execution_count": 19,
                    "data": {
                        "text/plain": "          Date Revenue\n48  2010-09-30      31\n49  2010-06-30      28\n50  2010-03-31      21\n52  2009-09-30      46\n53  2009-06-30      27",
                        "text/html": "<div>\n<style scoped>\n    .dataframe tbody tr th:only-of-type {\n        vertical-align: middle;\n    }\n\n    .dataframe tbody tr th {\n        vertical-align: top;\n    }\n\n    .dataframe thead th {\n        text-align: right;\n    }\n</style>\n<table border=\"1\" class=\"dataframe\">\n  <thead>\n    <tr style=\"text-align: right;\">\n      <th></th>\n      <th>Date</th>\n      <th>Revenue</th>\n    </tr>\n  </thead>\n  <tbody>\n    <tr>\n      <th>48</th>\n      <td>2010-09-30</td>\n      <td>31</td>\n    </tr>\n    <tr>\n      <th>49</th>\n      <td>2010-06-30</td>\n      <td>28</td>\n    </tr>\n    <tr>\n      <th>50</th>\n      <td>2010-03-31</td>\n      <td>21</td>\n    </tr>\n    <tr>\n      <th>52</th>\n      <td>2009-09-30</td>\n      <td>46</td>\n    </tr>\n    <tr>\n      <th>53</th>\n      <td>2009-06-30</td>\n      <td>27</td>\n    </tr>\n  </tbody>\n</table>\n</div>"
                    },
                    "metadata": {}
                }
            ]
        },
        {
            "metadata": {},
            "id": "40deff17",
            "cell_type": "markdown",
            "source": "## 3)Use yfinance to Extract Stock Data"
        },
        {
            "metadata": {},
            "id": "25c7f91a",
            "cell_type": "code",
            "source": "#getting gamestop data using Ticker with 'GME' keyword\nGameStop = yf.Ticker(\"GME\")\n#using history to get stock info. & for max. amount of time\ngme_data = GameStop.history(period = 'max')",
            "execution_count": 20,
            "outputs": []
        },
        {
            "metadata": {},
            "id": "bfbeda07",
            "cell_type": "code",
            "source": "#resetting the index with returning nothing and get dataframe updated\ngme_data.reset_index(inplace = True)\n#first five rows\ngme_data.head()",
            "execution_count": 31,
            "outputs": [
                {
                    "output_type": "execute_result",
                    "execution_count": 31,
                    "data": {
                        "text/plain": "                       Date      Open      High       Low     Close    Volume  \\\n0 2002-02-13 00:00:00-05:00  1.620128  1.693350  1.603296  1.691666  76216000   \n1 2002-02-14 00:00:00-05:00  1.712707  1.716073  1.670626  1.683250  11021600   \n2 2002-02-15 00:00:00-05:00  1.683250  1.687458  1.658001  1.674834   8389600   \n3 2002-02-19 00:00:00-05:00  1.666418  1.666418  1.578047  1.607504   7410400   \n4 2002-02-20 00:00:00-05:00  1.615921  1.662210  1.603296  1.662210   6892800   \n\n   Dividends  Stock Splits  \n0        0.0           0.0  \n1        0.0           0.0  \n2        0.0           0.0  \n3        0.0           0.0  \n4        0.0           0.0  ",
                        "text/html": "<div>\n<style scoped>\n    .dataframe tbody tr th:only-of-type {\n        vertical-align: middle;\n    }\n\n    .dataframe tbody tr th {\n        vertical-align: top;\n    }\n\n    .dataframe thead th {\n        text-align: right;\n    }\n</style>\n<table border=\"1\" class=\"dataframe\">\n  <thead>\n    <tr style=\"text-align: right;\">\n      <th></th>\n      <th>Date</th>\n      <th>Open</th>\n      <th>High</th>\n      <th>Low</th>\n      <th>Close</th>\n      <th>Volume</th>\n      <th>Dividends</th>\n      <th>Stock Splits</th>\n    </tr>\n  </thead>\n  <tbody>\n    <tr>\n      <th>0</th>\n      <td>2002-02-13 00:00:00-05:00</td>\n      <td>1.620128</td>\n      <td>1.693350</td>\n      <td>1.603296</td>\n      <td>1.691666</td>\n      <td>76216000</td>\n      <td>0.0</td>\n      <td>0.0</td>\n    </tr>\n    <tr>\n      <th>1</th>\n      <td>2002-02-14 00:00:00-05:00</td>\n      <td>1.712707</td>\n      <td>1.716073</td>\n      <td>1.670626</td>\n      <td>1.683250</td>\n      <td>11021600</td>\n      <td>0.0</td>\n      <td>0.0</td>\n    </tr>\n    <tr>\n      <th>2</th>\n      <td>2002-02-15 00:00:00-05:00</td>\n      <td>1.683250</td>\n      <td>1.687458</td>\n      <td>1.658001</td>\n      <td>1.674834</td>\n      <td>8389600</td>\n      <td>0.0</td>\n      <td>0.0</td>\n    </tr>\n    <tr>\n      <th>3</th>\n      <td>2002-02-19 00:00:00-05:00</td>\n      <td>1.666418</td>\n      <td>1.666418</td>\n      <td>1.578047</td>\n      <td>1.607504</td>\n      <td>7410400</td>\n      <td>0.0</td>\n      <td>0.0</td>\n    </tr>\n    <tr>\n      <th>4</th>\n      <td>2002-02-20 00:00:00-05:00</td>\n      <td>1.615921</td>\n      <td>1.662210</td>\n      <td>1.603296</td>\n      <td>1.662210</td>\n      <td>6892800</td>\n      <td>0.0</td>\n      <td>0.0</td>\n    </tr>\n  </tbody>\n</table>\n</div>"
                    },
                    "metadata": {}
                }
            ]
        },
        {
            "metadata": {},
            "id": "a33500f1",
            "cell_type": "markdown",
            "source": "##  4)Use Webscraping to Extract GME Revenue Data"
        },
        {
            "metadata": {},
            "id": "258de9c5",
            "cell_type": "code",
            "source": "url = \"https://www.macrotrends.net/stocks/charts/GME/gamestop/revenue\"\nhtml=requests.get(url).text\nsoup=BeautifulSoup(html,\"html.parser\")",
            "execution_count": 26,
            "outputs": []
        },
        {
            "metadata": {},
            "id": "a746b1ad",
            "cell_type": "code",
            "source": "game_df = pd.DataFrame(columns = ['Date', 'Revenue'])\n\nfor row in soup.find_all(\"tbody\")[1].find_all(\"tr\"):\n    col = row.find_all(\"td\")\n    date = col[0].text\n    revenue = col[1].text.replace(\"$\", \"\").replace(\",\", \"\")\n    \n    game_df = game_df.append({\"Date\": date, \"Revenue\": revenue}, ignore_index = True)",
            "execution_count": 25,
            "outputs": []
        },
        {
            "metadata": {},
            "id": "cb8b78c0",
            "cell_type": "code",
            "source": "tsla_revenue.dropna(inplace=True)\ntsla_revenue = tsla_revenue[tsla_revenue['Revenue'] != '']\ngame_df.tail()",
            "execution_count": 24,
            "outputs": [
                {
                    "output_type": "execute_result",
                    "execution_count": 24,
                    "data": {
                        "text/plain": "          Date Revenue\n50  2010-01-31    3524\n51  2009-10-31    1835\n52  2009-07-31    1739\n53  2009-04-30    1981\n54  2009-01-31    3492",
                        "text/html": "<div>\n<style scoped>\n    .dataframe tbody tr th:only-of-type {\n        vertical-align: middle;\n    }\n\n    .dataframe tbody tr th {\n        vertical-align: top;\n    }\n\n    .dataframe thead th {\n        text-align: right;\n    }\n</style>\n<table border=\"1\" class=\"dataframe\">\n  <thead>\n    <tr style=\"text-align: right;\">\n      <th></th>\n      <th>Date</th>\n      <th>Revenue</th>\n    </tr>\n  </thead>\n  <tbody>\n    <tr>\n      <th>50</th>\n      <td>2010-01-31</td>\n      <td>3524</td>\n    </tr>\n    <tr>\n      <th>51</th>\n      <td>2009-10-31</td>\n      <td>1835</td>\n    </tr>\n    <tr>\n      <th>52</th>\n      <td>2009-07-31</td>\n      <td>1739</td>\n    </tr>\n    <tr>\n      <th>53</th>\n      <td>2009-04-30</td>\n      <td>1981</td>\n    </tr>\n    <tr>\n      <th>54</th>\n      <td>2009-01-31</td>\n      <td>3492</td>\n    </tr>\n  </tbody>\n</table>\n</div>"
                    },
                    "metadata": {}
                }
            ]
        },
        {
            "metadata": {},
            "id": "377bb5bf",
            "cell_type": "markdown",
            "source": "## 5)Plot Tesla Stock Graph"
        },
        {
            "metadata": {},
            "id": "c0aed252",
            "cell_type": "code",
            "source": "make_graph(tdata, tsla_revenue, 'Tesla')",
            "execution_count": 1,
            "outputs": [
                {
                    "output_type": "error",
                    "ename": "NameError",
                    "evalue": "name 'make_graph' is not defined",
                    "traceback": [
                        "\u001b[0;31m---------------------------------------------------------------------------\u001b[0m",
                        "\u001b[0;31mNameError\u001b[0m                                 Traceback (most recent call last)",
                        "\u001b[0;32m/tmp/wsuser/ipykernel_164/2266028121.py\u001b[0m in \u001b[0;36m<module>\u001b[0;34m\u001b[0m\n\u001b[0;32m----> 1\u001b[0;31m \u001b[0mmake_graph\u001b[0m\u001b[0;34m(\u001b[0m\u001b[0mtdata\u001b[0m\u001b[0;34m,\u001b[0m \u001b[0mtsla_revenue\u001b[0m\u001b[0;34m,\u001b[0m \u001b[0;34m'Tesla'\u001b[0m\u001b[0;34m)\u001b[0m\u001b[0;34m\u001b[0m\u001b[0;34m\u001b[0m\u001b[0m\n\u001b[0m",
                        "\u001b[0;31mNameError\u001b[0m: name 'make_graph' is not defined"
                    ]
                }
            ]
        },
        {
            "metadata": {},
            "id": "154b2366",
            "cell_type": "markdown",
            "source": "## 6)Plot GameStop Stock Graph"
        },
        {
            "metadata": {},
            "id": "556d798a",
            "cell_type": "code",
            "source": "make_graph(gme_data, game_df, 'GameStop')",
            "execution_count": 38,
            "outputs": [
                {
                    "output_type": "error",
                    "ename": "AttributeError",
                    "evalue": "'DataFrame' object has no attribute 'Date'",
                    "traceback": [
                        "\u001b[0;31m---------------------------------------------------------------------------\u001b[0m",
                        "\u001b[0;31mAttributeError\u001b[0m                            Traceback (most recent call last)",
                        "\u001b[0;32m/tmp/wsuser/ipykernel_253/597531981.py\u001b[0m in \u001b[0;36m<module>\u001b[0;34m\u001b[0m\n\u001b[0;32m----> 1\u001b[0;31m \u001b[0mmake_graph\u001b[0m\u001b[0;34m(\u001b[0m\u001b[0mgme_data\u001b[0m\u001b[0;34m,\u001b[0m \u001b[0mgame_df\u001b[0m\u001b[0;34m,\u001b[0m \u001b[0;34m'GameStop'\u001b[0m\u001b[0;34m)\u001b[0m\u001b[0;34m\u001b[0m\u001b[0;34m\u001b[0m\u001b[0m\n\u001b[0m",
                        "\u001b[0;32m/tmp/wsuser/ipykernel_253/3238566114.py\u001b[0m in \u001b[0;36mmake_graph\u001b[0;34m(stock_data, revenue_data, stock)\u001b[0m\n\u001b[1;32m      2\u001b[0m \u001b[0;32mdef\u001b[0m \u001b[0mmake_graph\u001b[0m\u001b[0;34m(\u001b[0m\u001b[0mstock_data\u001b[0m\u001b[0;34m,\u001b[0m \u001b[0mrevenue_data\u001b[0m\u001b[0;34m,\u001b[0m \u001b[0mstock\u001b[0m\u001b[0;34m)\u001b[0m\u001b[0;34m:\u001b[0m\u001b[0;34m\u001b[0m\u001b[0;34m\u001b[0m\u001b[0m\n\u001b[1;32m      3\u001b[0m     \u001b[0mfig\u001b[0m \u001b[0;34m=\u001b[0m \u001b[0mmake_subplots\u001b[0m\u001b[0;34m(\u001b[0m\u001b[0mrows\u001b[0m\u001b[0;34m=\u001b[0m\u001b[0;36m2\u001b[0m\u001b[0;34m,\u001b[0m \u001b[0mcols\u001b[0m\u001b[0;34m=\u001b[0m\u001b[0;36m1\u001b[0m\u001b[0;34m,\u001b[0m \u001b[0mshared_xaxes\u001b[0m\u001b[0;34m=\u001b[0m\u001b[0;32mTrue\u001b[0m\u001b[0;34m,\u001b[0m \u001b[0msubplot_titles\u001b[0m\u001b[0;34m=\u001b[0m\u001b[0;34m(\u001b[0m\u001b[0;34m\"Historical Share Price\"\u001b[0m\u001b[0;34m,\u001b[0m \u001b[0;34m\"Historical Revenue\"\u001b[0m\u001b[0;34m)\u001b[0m\u001b[0;34m,\u001b[0m \u001b[0mvertical_spacing\u001b[0m \u001b[0;34m=\u001b[0m \u001b[0;36m.3\u001b[0m\u001b[0;34m)\u001b[0m\u001b[0;34m\u001b[0m\u001b[0;34m\u001b[0m\u001b[0m\n\u001b[0;32m----> 4\u001b[0;31m     \u001b[0mfig\u001b[0m\u001b[0;34m.\u001b[0m\u001b[0madd_trace\u001b[0m\u001b[0;34m(\u001b[0m\u001b[0mgo\u001b[0m\u001b[0;34m.\u001b[0m\u001b[0mScatter\u001b[0m\u001b[0;34m(\u001b[0m\u001b[0mx\u001b[0m\u001b[0;34m=\u001b[0m\u001b[0mpd\u001b[0m\u001b[0;34m.\u001b[0m\u001b[0mto_datetime\u001b[0m\u001b[0;34m(\u001b[0m\u001b[0mstock_data\u001b[0m\u001b[0;34m.\u001b[0m\u001b[0mDate\u001b[0m\u001b[0;34m,\u001b[0m \u001b[0minfer_datetime_format\u001b[0m\u001b[0;34m=\u001b[0m\u001b[0;32mTrue\u001b[0m\u001b[0;34m)\u001b[0m\u001b[0;34m,\u001b[0m \u001b[0my\u001b[0m\u001b[0;34m=\u001b[0m\u001b[0mstock_data\u001b[0m\u001b[0;34m.\u001b[0m\u001b[0mClose\u001b[0m\u001b[0;34m.\u001b[0m\u001b[0mastype\u001b[0m\u001b[0;34m(\u001b[0m\u001b[0;34m\"float\"\u001b[0m\u001b[0;34m)\u001b[0m\u001b[0;34m,\u001b[0m \u001b[0mname\u001b[0m\u001b[0;34m=\u001b[0m\u001b[0;34m\"Share Price\"\u001b[0m\u001b[0;34m)\u001b[0m\u001b[0;34m,\u001b[0m \u001b[0mrow\u001b[0m\u001b[0;34m=\u001b[0m\u001b[0;36m1\u001b[0m\u001b[0;34m,\u001b[0m \u001b[0mcol\u001b[0m\u001b[0;34m=\u001b[0m\u001b[0;36m1\u001b[0m\u001b[0;34m)\u001b[0m\u001b[0;34m\u001b[0m\u001b[0;34m\u001b[0m\u001b[0m\n\u001b[0m\u001b[1;32m      5\u001b[0m     \u001b[0mfig\u001b[0m\u001b[0;34m.\u001b[0m\u001b[0madd_trace\u001b[0m\u001b[0;34m(\u001b[0m\u001b[0mgo\u001b[0m\u001b[0;34m.\u001b[0m\u001b[0mScatter\u001b[0m\u001b[0;34m(\u001b[0m\u001b[0mx\u001b[0m\u001b[0;34m=\u001b[0m\u001b[0mpd\u001b[0m\u001b[0;34m.\u001b[0m\u001b[0mto_datetime\u001b[0m\u001b[0;34m(\u001b[0m\u001b[0mrevenue_data\u001b[0m\u001b[0;34m.\u001b[0m\u001b[0mDate\u001b[0m\u001b[0;34m,\u001b[0m \u001b[0minfer_datetime_format\u001b[0m\u001b[0;34m=\u001b[0m\u001b[0;32mTrue\u001b[0m\u001b[0;34m)\u001b[0m\u001b[0;34m,\u001b[0m \u001b[0my\u001b[0m\u001b[0;34m=\u001b[0m\u001b[0mrevenue_data\u001b[0m\u001b[0;34m.\u001b[0m\u001b[0mRevenue\u001b[0m\u001b[0;34m.\u001b[0m\u001b[0mastype\u001b[0m\u001b[0;34m(\u001b[0m\u001b[0;34m\"float\"\u001b[0m\u001b[0;34m)\u001b[0m\u001b[0;34m,\u001b[0m \u001b[0mname\u001b[0m\u001b[0;34m=\u001b[0m\u001b[0;34m\"Revenue\"\u001b[0m\u001b[0;34m)\u001b[0m\u001b[0;34m,\u001b[0m \u001b[0mrow\u001b[0m\u001b[0;34m=\u001b[0m\u001b[0;36m2\u001b[0m\u001b[0;34m,\u001b[0m \u001b[0mcol\u001b[0m\u001b[0;34m=\u001b[0m\u001b[0;36m1\u001b[0m\u001b[0;34m)\u001b[0m\u001b[0;34m\u001b[0m\u001b[0;34m\u001b[0m\u001b[0m\n\u001b[1;32m      6\u001b[0m     \u001b[0mfig\u001b[0m\u001b[0;34m.\u001b[0m\u001b[0mupdate_xaxes\u001b[0m\u001b[0;34m(\u001b[0m\u001b[0mtitle_text\u001b[0m\u001b[0;34m=\u001b[0m\u001b[0;34m\"Date\"\u001b[0m\u001b[0;34m,\u001b[0m \u001b[0mrow\u001b[0m\u001b[0;34m=\u001b[0m\u001b[0;36m1\u001b[0m\u001b[0;34m,\u001b[0m \u001b[0mcol\u001b[0m\u001b[0;34m=\u001b[0m\u001b[0;36m1\u001b[0m\u001b[0;34m)\u001b[0m\u001b[0;34m\u001b[0m\u001b[0;34m\u001b[0m\u001b[0m\n",
                        "\u001b[0;32m/opt/conda/envs/Python-3.9/lib/python3.9/site-packages/pandas/core/generic.py\u001b[0m in \u001b[0;36m__getattr__\u001b[0;34m(self, name)\u001b[0m\n\u001b[1;32m   5485\u001b[0m         ):\n\u001b[1;32m   5486\u001b[0m             \u001b[0;32mreturn\u001b[0m \u001b[0mself\u001b[0m\u001b[0;34m[\u001b[0m\u001b[0mname\u001b[0m\u001b[0;34m]\u001b[0m\u001b[0;34m\u001b[0m\u001b[0;34m\u001b[0m\u001b[0m\n\u001b[0;32m-> 5487\u001b[0;31m         \u001b[0;32mreturn\u001b[0m \u001b[0mobject\u001b[0m\u001b[0;34m.\u001b[0m\u001b[0m__getattribute__\u001b[0m\u001b[0;34m(\u001b[0m\u001b[0mself\u001b[0m\u001b[0;34m,\u001b[0m \u001b[0mname\u001b[0m\u001b[0;34m)\u001b[0m\u001b[0;34m\u001b[0m\u001b[0;34m\u001b[0m\u001b[0m\n\u001b[0m\u001b[1;32m   5488\u001b[0m \u001b[0;34m\u001b[0m\u001b[0m\n\u001b[1;32m   5489\u001b[0m     \u001b[0;32mdef\u001b[0m \u001b[0m__setattr__\u001b[0m\u001b[0;34m(\u001b[0m\u001b[0mself\u001b[0m\u001b[0;34m,\u001b[0m \u001b[0mname\u001b[0m\u001b[0;34m:\u001b[0m \u001b[0mstr\u001b[0m\u001b[0;34m,\u001b[0m \u001b[0mvalue\u001b[0m\u001b[0;34m)\u001b[0m \u001b[0;34m->\u001b[0m \u001b[0;32mNone\u001b[0m\u001b[0;34m:\u001b[0m\u001b[0;34m\u001b[0m\u001b[0;34m\u001b[0m\u001b[0m\n",
                        "\u001b[0;31mAttributeError\u001b[0m: 'DataFrame' object has no attribute 'Date'"
                    ]
                }
            ]
        },
        {
            "metadata": {},
            "id": "2b7f1e4f",
            "cell_type": "code",
            "source": "",
            "execution_count": null,
            "outputs": []
        }
    ],
    "metadata": {
        "kernelspec": {
            "name": "python3",
            "display_name": "Python 3.9",
            "language": "python"
        },
        "language_info": {
            "name": "python",
            "version": "3.9.13",
            "mimetype": "text/x-python",
            "codemirror_mode": {
                "name": "ipython",
                "version": 3
            },
            "pygments_lexer": "ipython3",
            "nbconvert_exporter": "python",
            "file_extension": ".py"
        }
    },
    "nbformat": 4,
    "nbformat_minor": 5
}